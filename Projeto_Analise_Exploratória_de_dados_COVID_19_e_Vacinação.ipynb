{
  "nbformat": 4,
  "nbformat_minor": 0,
  "metadata": {
    "colab": {
      "provenance": []
    },
    "kernelspec": {
      "name": "python3",
      "display_name": "Python 3"
    }
  },
  "cells": [
    {
      "cell_type": "markdown",
      "metadata": {
        "id": "QRcqbpLpFK5o"
      },
      "source": [
        "# **COVID Dashboard**"
      ]
    },
    {
      "cell_type": "markdown",
      "source": [
        "Relatório: https://lookerstudio.google.com/s/qGkszFkvvFI"
      ],
      "metadata": {
        "id": "dTy55fFZ90GN"
      }
    },
    {
      "cell_type": "markdown",
      "metadata": {
        "id": "6-CvdKwqFPiW"
      },
      "source": [
        "## 1\\. Contexto"
      ]
    },
    {
      "cell_type": "markdown",
      "metadata": {
        "id": "XRURE1uUFXGw"
      },
      "source": [
        "## **Pandemia Coronavírus 2019**"
      ]
    },
    {
      "cell_type": "markdown",
      "source": [
        "Os dados sobre **casos da COVID-19** são compilados pelo centro de ciência de sistemas e engenharia da universidade americana **John Hopkins** ([link](https://www.jhu.edu)). Os dados são atualizados diariamente deste janeiro de 2020 com uma granularidade temporal de dias e geográfica de regiões de países (estados, condados, etc.). O website do projeto pode ser acessado neste [link](https://systems.jhu.edu/research/public-health/ncov/) enquanto os dados, neste [link](https://github.com/CSSEGISandData/COVID-19/tree/master/csse_covid_19_data/csse_covid_19_daily_reports)."
      ],
      "metadata": {
        "id": "VNUpoeZO0S4A"
      }
    },
    {
      "cell_type": "markdown",
      "source": [
        "Os dados sobre **vacinação da COVID-19** são compilados pelo projeto Nosso Mundo em Dados (*Our World in Data* ou OWID) da universidade britânica de **Oxford** ([link](https://www.ox.ac.uk)). Os dados são **atualizados diariamente** deste janeiro de 2020 com uma **granularidade temporal de dias e geográfica de países**. O website do projeto pode ser acessado neste [link](https://ourworldindata.org) enquanto os dados, neste [link](https://covid.ourworldindata.org/data/owid-covid-data.csv)."
      ],
      "metadata": {
        "id": "Y0nOZZ3G0ZJA"
      }
    },
    {
      "cell_type": "markdown",
      "metadata": {
        "id": "QxukLHaqFnkU"
      },
      "source": [
        "## 2\\. Pacotes e bibliotecas"
      ]
    },
    {
      "cell_type": "code",
      "metadata": {
        "id": "VXUEW0VrF7XW"
      },
      "source": [
        "#Importa as bibliotecas necessárias para a manipulação dos dados\n",
        "import math\n",
        "from typing import Iterator\n",
        "from datetime import datetime, timedelta\n",
        "\n",
        "import numpy as np\n",
        "import pandas as pd"
      ],
      "execution_count": 1,
      "outputs": []
    },
    {
      "cell_type": "markdown",
      "metadata": {
        "id": "irQxHW1zGkdZ"
      },
      "source": [
        "## 3\\. Extração/Transformação"
      ]
    },
    {
      "cell_type": "code",
      "metadata": {
        "id": "lxLj8e0GHAnr"
      },
      "source": [
        "#Extrai os dados de vacinação\n",
        "vaccines = pd.read_csv('https://covid.ourworldindata.org/data/owid-covid-data.csv', sep=',', parse_dates=[3])"
      ],
      "execution_count": 2,
      "outputs": []
    },
    {
      "cell_type": "code",
      "metadata": {
        "id": "DXU4Ee0QJS9Q"
      },
      "source": [
        "#Define uma função para gerar um intervalo de datas entre start_date e end_date.\n",
        "def date_range(start_date: datetime, end_date: datetime) -> Iterator[datetime]:\n",
        "  date_range_days: int = (end_date - start_date).days\n",
        "  for lag in range(date_range_days):\n",
        "    yield start_date + timedelta(lag)\n",
        "\n",
        "#Define as datas de início e fim para o intervalo de análise.\n",
        "start_date = datetime(2021,  1,  1)\n",
        "end_date   = datetime(2021, 12, 31)\n",
        "\n",
        "#Itera sobre as datas, carrega os dados de casos diários e filtra apenas os registros do Brasil, concatenando os dados de cada dia.\n",
        "cases = None\n",
        "cases_is_empty = True\n",
        "\n",
        "for date in date_range(start_date=start_date, end_date=end_date):\n",
        "\n",
        "  date_str = date.strftime('%m-%d-%Y')\n",
        "  data_source_url = f'https://raw.githubusercontent.com/CSSEGISandData/COVID-19/master/csse_covid_19_data/csse_covid_19_daily_reports/{date_str}.csv'\n",
        "\n",
        "  case = pd.read_csv(data_source_url, sep=',')\n",
        "\n",
        "  case = case.drop(['FIPS', 'Admin2', 'Last_Update', 'Lat', 'Long_', 'Recovered', 'Active', 'Combined_Key', 'Case_Fatality_Ratio'], axis=1)\n",
        "  case = case.query('Country_Region == \"Brazil\"').reset_index(drop=True)\n",
        "  case['Date'] = pd.to_datetime(date.strftime('%Y-%m-%d'))\n",
        "\n",
        "  if cases_is_empty:\n",
        "    cases = case\n",
        "    cases_is_empty = False\n",
        "  else:\n",
        "    cases = pd.concat([cases,case], ignore_index=True)"
      ],
      "execution_count": 3,
      "outputs": []
    },
    {
      "cell_type": "code",
      "source": [
        "#Renomeia colunas para facilitar o uso dos dados.\n",
        "cases = cases.rename(\n",
        "  columns={\n",
        "    'Province_State': 'state',\n",
        "    'Country_Region': 'country'\n",
        "  }\n",
        ")\n",
        "\n",
        "for col in cases.columns:\n",
        "  cases = cases.rename(columns={col: col.lower()})\n",
        "\n",
        "#Corrige os nomes dos estados brasileiros que têm acentuação.\n",
        "  states_map = {\n",
        "    'Amapa': 'Amapá',\n",
        "    'Ceara': 'Ceará',\n",
        "    'Espirito Santo': 'Espírito Santo',\n",
        "    'Goias': 'Goiás',\n",
        "    'Para': 'Pará',\n",
        "    'Paraiba': 'Paraíba',\n",
        "    'Parana': 'Paraná',\n",
        "    'Piaui': 'Piauí',\n",
        "    'Rondonia': 'Rondônia',\n",
        "    'Sao Paulo': 'São Paulo'\n",
        "}\n",
        "\n",
        "\n",
        "cases['state'] = cases['state'].apply(lambda state: states_map.get(state) if state in states_map.keys() else state)\n",
        "\n",
        "#Cria colunas para mês e ano, calcula a população e remove a coluna incident_rate.\n",
        "cases['month'] = cases['date'].apply(lambda date: date.strftime('%Y-%m'))\n",
        "cases['year']  = cases['date'].apply(lambda date: date.strftime('%Y'))\n",
        "\n",
        "cases['population'] = round(100000 * (cases['confirmed'] / cases['incident_rate']))\n",
        "cases = cases.drop('incident_rate', axis=1)"
      ],
      "metadata": {
        "id": "knaR9pgTysc7"
      },
      "execution_count": 4,
      "outputs": []
    },
    {
      "cell_type": "code",
      "source": [
        "#Define uma função para calcular a tendência dos casos e mortes (subindo, descendo ou estável).\n",
        "cases_ = None\n",
        "cases_is_empty = True\n",
        "\n",
        "def get_trend(rate: float) -> str:\n",
        "\n",
        "  if np.isnan(rate):\n",
        "    return np.NaN\n",
        "\n",
        "  if rate < 0.75:\n",
        "    status = 'downward'\n",
        "  elif rate > 1.15:\n",
        "    status = 'upward'\n",
        "  else:\n",
        "    status = 'stable'\n",
        "\n",
        "  return status\n",
        "\n",
        "#Calcula médias móveis de 7 dias para casos e mortes diárias e determina a tendência para cada estado.\n",
        "for state in cases['state'].drop_duplicates():\n",
        "\n",
        "  cases_per_state = cases.query(f'state == \"{state}\"').reset_index(drop=True)\n",
        "  cases_per_state = cases_per_state.sort_values(by=['date'])\n",
        "\n",
        "  cases_per_state['confirmed_1d'] = cases_per_state['confirmed'].diff(periods=1)\n",
        "  cases_per_state['confirmed_moving_avg_7d'] = np.ceil(cases_per_state['confirmed_1d'].rolling(window=7).mean())\n",
        "  cases_per_state['confirmed_moving_avg_7d_rate_14d'] = cases_per_state['confirmed_moving_avg_7d']/cases_per_state['confirmed_moving_avg_7d'].shift(periods=14)\n",
        "  cases_per_state['confirmed_trend'] = cases_per_state['confirmed_moving_avg_7d_rate_14d'].apply(get_trend)\n",
        "\n",
        "\n",
        "  cases_per_state['deaths_1d'] = cases_per_state['deaths'].diff(periods=1)\n",
        "  cases_per_state['deaths_moving_avg_7d'] = np.ceil(cases_per_state['deaths_1d'].rolling(window=7).mean())\n",
        "  cases_per_state['deaths_moving_avg_7d_rate_14d'] = cases_per_state['deaths_moving_avg_7d']/cases_per_state['deaths_moving_avg_7d'].shift(periods=14)\n",
        "  cases_per_state['deaths_trend'] = cases_per_state['deaths_moving_avg_7d_rate_14d'].apply(get_trend)\n",
        "\n",
        "  if cases_is_empty:\n",
        "    cases_ = cases_per_state\n",
        "    cases_is_empty = False\n",
        "  else:\n",
        "    cases_ = pd.concat([cases_, cases_per_state], ignore_index=True)\n",
        "\n",
        "cases = cases_\n",
        "cases_ = None"
      ],
      "metadata": {
        "id": "twa4dmFSy6KE"
      },
      "execution_count": 5,
      "outputs": []
    },
    {
      "cell_type": "code",
      "source": [
        "#Converte algumas colunas para o tipo Int64\n",
        "cases['population'] = cases['population'].astype('Int64')\n",
        "cases['confirmed_1d'] = cases['confirmed_1d'].astype('Int64')\n",
        "cases['confirmed_moving_avg_7d'] = cases['confirmed_moving_avg_7d'].astype('Int64')\n",
        "cases['deaths_1d'] = cases['deaths_1d'].astype('Int64')\n",
        "cases['deaths_moving_avg_7d'] = cases['deaths_moving_avg_7d'].astype('Int64')\n",
        "\n",
        "#Seleciona apenas as colunas necessárias para análise.\n",
        "cases = cases[['date', 'country', 'state', 'population', 'confirmed', 'confirmed_1d', 'confirmed_moving_avg_7d', 'confirmed_moving_avg_7d_rate_14d', 'confirmed_trend', 'deaths', 'deaths_1d', 'deaths_moving_avg_7d', 'deaths_moving_avg_7d_rate_14d', 'deaths_trend', 'month', 'year']]"
      ],
      "metadata": {
        "id": "i5DUHaDEy9wJ"
      },
      "execution_count": 6,
      "outputs": []
    },
    {
      "cell_type": "code",
      "source": [
        "#Filtra os dados de vacinação para o Brasil e seleciona as colunas necessárias.\n",
        "vaccines = vaccines.query('location == \"Brazil\"').reset_index(drop=True)\n",
        "vaccines = vaccines[['location', 'population', 'total_vaccinations', 'people_vaccinated', 'people_fully_vaccinated', 'total_boosters', 'date']]\n",
        "\n",
        "#Preenche valores faltantes com o último valor válido conhecido (forward fill).\n",
        "vaccines = vaccines.ffill()\n",
        "\n",
        "#Filtra os dados de vacinação para o ano de 2021.\n",
        "vaccines = vaccines[(vaccines['date'] >= '2021-01-01') & (vaccines['date'] <= '2021-12-31')].reset_index(drop=True)\n",
        "\n",
        "#Renomeia as colunas para facilitar o uso dos dados.\n",
        "vaccines = vaccines.rename(\n",
        "  columns={\n",
        "    'location': 'country',\n",
        "    'total_vaccinations': 'total',\n",
        "    'people_vaccinated': 'one_shot',\n",
        "    'people_fully_vaccinated': 'two_shots',\n",
        "    'total_boosters': 'three_shots',\n",
        "  }\n",
        ")\n",
        "\n",
        "#Cria colunas para mês e ano.\n",
        "vaccines['month'] = vaccines['date'].apply(lambda date: date.strftime('%Y-%m'))\n",
        "vaccines['year']  = vaccines['date'].apply(lambda date: date.strftime('%Y'))\n",
        "\n",
        "#Calcula as porcent\n",
        "vaccines['one_shot_perc'] = round(vaccines['one_shot'] / vaccines['population'], 4)\n",
        "vaccines['two_shots_perc'] = round(vaccines['two_shots'] / vaccines['population'], 4)\n",
        "vaccines['three_shots_perc'] = round(vaccines['three_shots'] / vaccines['population'], 4)\n",
        "\n",
        "#Converte algumas colunas para o tipo Int64.\n",
        "vaccines['population'] = vaccines['population'].astype('Int64')\n",
        "vaccines['total'] = vaccines['total'].astype('Int64')\n",
        "vaccines['one_shot'] = vaccines['one_shot'].astype('Int64')\n",
        "vaccines['two_shots'] = vaccines['two_shots'].astype('Int64')\n",
        "vaccines['three_shots'] = vaccines['three_shots'].astype('Int64')\n",
        "\n",
        "#Seleciona apenas as colunas necessárias para análise.\n",
        "vaccines = vaccines[['date', 'country', 'population', 'total', 'one_shot', 'one_shot_perc', 'two_shots', 'two_shots_perc', 'three_shots', 'three_shots_perc', 'month', 'year']]"
      ],
      "metadata": {
        "id": "eJH9UGIpzKu0"
      },
      "execution_count": 7,
      "outputs": []
    },
    {
      "cell_type": "markdown",
      "metadata": {
        "id": "KSgjP--1JS9R"
      },
      "source": [
        "## 4\\. Carregamento"
      ]
    },
    {
      "cell_type": "code",
      "metadata": {
        "id": "Jlj3ACWCJS9R"
      },
      "source": [
        "cases.to_csv('./covid-cases.csv', sep=',', index=False)\n",
        "\n",
        "vaccines.to_csv('./covid-vaccines.csv', sep=',', index=False)"
      ],
      "execution_count": 8,
      "outputs": []
    }
  ]
}